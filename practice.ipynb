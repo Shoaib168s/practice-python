{
 "cells": [
  {
   "cell_type": "code",
   "execution_count": null,
   "id": "1a2e8d57-75cc-4a2d-b89e-048a3f91bf37",
   "metadata": {},
   "outputs": [],
   "source": [
    "#write a program using if,(elif and else function)"
   ]
  },
  {
   "cell_type": "code",
   "execution_count": 15,
   "id": "fdaddcfa-3e50-44b3-a770-529fb2288892",
   "metadata": {},
   "outputs": [
    {
     "name": "stdin",
     "output_type": "stream",
     "text": [
      "enter the marks 10\n"
     ]
    },
    {
     "name": "stdout",
     "output_type": "stream",
     "text": [
      "fail\n"
     ]
    }
   ],
   "source": [
    "marks=int(input(\"enter the marks\"))\n",
    "if marks>=80 and marks<=100:\n",
    "          print(\"distinction\")\n",
    "elif marks>=60 and marks<80:\n",
    "          print(\"result A\")\n",
    "elif marks>=40 and marks<60:\n",
    "          print(\"result B\")\n",
    "elif marks<40:\n",
    "          print(\"fail\")\n",
    "else:\n",
    "          print(\"no result found\")"
   ]
  },
  {
   "cell_type": "code",
   "execution_count": 16,
   "id": "44b81787-05ee-4287-b72c-87e368825a40",
   "metadata": {},
   "outputs": [],
   "source": [
    "#add +1 in each number present in the list and append a new list"
   ]
  },
  {
   "cell_type": "code",
   "execution_count": 31,
   "id": "b50231cd-9ddc-4c6c-91d9-74338c03c084",
   "metadata": {},
   "outputs": [],
   "source": [
    "l=[1,2,3,4,5]"
   ]
  },
  {
   "cell_type": "code",
   "execution_count": 47,
   "id": "78b6bbc6-bf45-41d5-9368-fc5548d39375",
   "metadata": {},
   "outputs": [
    {
     "name": "stdout",
     "output_type": "stream",
     "text": [
      "2\n",
      "3\n",
      "4\n",
      "5\n",
      "6\n"
     ]
    }
   ],
   "source": [
    "l1 = []\n",
    "for a in l:\n",
    "    print(a+1)\n",
    "    l1.append(a+1)"
   ]
  },
  {
   "cell_type": "code",
   "execution_count": 48,
   "id": "8ed0764f-4e1e-4ec1-9c67-87a442a95fce",
   "metadata": {},
   "outputs": [
    {
     "data": {
      "text/plain": [
       "[2, 3, 4, 5, 6]"
      ]
     },
     "execution_count": 48,
     "metadata": {},
     "output_type": "execute_result"
    }
   ],
   "source": [
    "l1"
   ]
  },
  {
   "cell_type": "code",
   "execution_count": 49,
   "id": "4a21a5a7-ccbf-43c4-8bb3-d1bcca8afb6b",
   "metadata": {},
   "outputs": [],
   "source": [
    "# write a program to seperate a string and number from the given list"
   ]
  },
  {
   "cell_type": "code",
   "execution_count": 53,
   "id": "9bcf2baf-37d2-4396-a0b7-17470ebf866e",
   "metadata": {},
   "outputs": [],
   "source": [
    "x=[1,2,3,4,\"student\",2,1,\"teacher\"]"
   ]
  },
  {
   "cell_type": "code",
   "execution_count": 60,
   "id": "60155644-568b-4fe8-a429-a0e972a37ff2",
   "metadata": {},
   "outputs": [],
   "source": [
    "l3_number=[]\n",
    "l4_string=[]\n",
    "for a in x:\n",
    "    if type(a)==int or type(a)==float:\n",
    "        l3_number.append(a)\n",
    "    else:\n",
    "        l4_string.append(a)\n",
    "        \n",
    "    "
   ]
  },
  {
   "cell_type": "code",
   "execution_count": 61,
   "id": "7f2727ec-4102-4bc2-ba81-2a929be35f61",
   "metadata": {},
   "outputs": [
    {
     "data": {
      "text/plain": [
       "['student', 'teacher']"
      ]
     },
     "execution_count": 61,
     "metadata": {},
     "output_type": "execute_result"
    }
   ],
   "source": [
    "l4_string"
   ]
  },
  {
   "cell_type": "code",
   "execution_count": 62,
   "id": "2ab90bb1-54ba-492b-9bd3-dbf08a6e3e1e",
   "metadata": {},
   "outputs": [
    {
     "data": {
      "text/plain": [
       "[1, 2, 3, 4, 2, 1]"
      ]
     },
     "execution_count": 62,
     "metadata": {},
     "output_type": "execute_result"
    }
   ],
   "source": [
    "l3_number"
   ]
  },
  {
   "cell_type": "code",
   "execution_count": null,
   "id": "86e0b435-cf44-44a2-811f-21e80709c4b3",
   "metadata": {},
   "outputs": [],
   "source": []
  }
 ],
 "metadata": {
  "kernelspec": {
   "display_name": "Python 3 (ipykernel)",
   "language": "python",
   "name": "python3"
  },
  "language_info": {
   "codemirror_mode": {
    "name": "ipython",
    "version": 3
   },
   "file_extension": ".py",
   "mimetype": "text/x-python",
   "name": "python",
   "nbconvert_exporter": "python",
   "pygments_lexer": "ipython3",
   "version": "3.10.8"
  }
 },
 "nbformat": 4,
 "nbformat_minor": 5
}
